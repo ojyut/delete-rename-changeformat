{
 "cells": [
  {
   "cell_type": "code",
   "execution_count": 1,
   "metadata": {},
   "outputs": [],
   "source": [
    "import sys\n",
    "import matplotlib.pyplot as plt\n",
    "import numpy as np\n",
    "import pandas as pd\n",
    "path = r\"D:\\Proyekan\\Program buat Proyekan\\Programssss\\pppmi-unstable-approach-master\\python\\putilities\"\n",
    "sys.path.append(path)\n",
    "import utilibs as ul\n",
    "import UnzipDeleteRename as udr"
   ]
  },
  {
   "cell_type": "markdown",
   "metadata": {},
   "source": [
    "# Unzip Files #"
   ]
  },
  {
   "cell_type": "code",
   "execution_count": null,
   "metadata": {},
   "outputs": [],
   "source": [
    "import zipfile,fnmatch,os\n",
    "#This is for unzipping .zip files in a folder\n",
    "rootPath = r\"D:\\Proyekan\\Data yang udah di extract\"\n",
    "pattern = '*.zip'\n",
    "for root, dirs, files in os.walk(rootPath):\n",
    "    for filename in fnmatch.filter(files, pattern):\n",
    "        print(os.path.join(root, filename))\n",
    "        zipfile.ZipFile(os.path.join(root, filename)).extractall(os.path.join(root, os.path.splitext(filename)[0]))"
   ]
  },
  {
   "cell_type": "code",
   "execution_count": null,
   "metadata": {},
   "outputs": [],
   "source": [
    "rootPath= r\"D:\\Proyekan\\Data yang udah di extract\"\n",
    "udr.unzipfiles(rootPath)"
   ]
  },
  {
   "cell_type": "markdown",
   "metadata": {},
   "source": [
    "# Delete Files Under 800 KB #"
   ]
  },
  {
   "cell_type": "code",
   "execution_count": null,
   "metadata": {},
   "outputs": [],
   "source": [
    "import os, os.path\n",
    "#This is for deleting files under 800 kb\n",
    "for root, _, files in os.walk(r\"D:\\Proyekan\\UPG_ARR\\JT891\"):\n",
    "    for f in files:\n",
    "        fullpath = os.path.join(root, f)\n",
    "        try:\n",
    "            if os.path.getsize(fullpath) < 600 * 1024:   #set file size in kb\n",
    "                print(fullpath)\n",
    "                os.remove(fullpath)\n",
    "        except WindowsError:\n",
    "            print (\"Error\" + fullpath)"
   ]
  },
  {
   "cell_type": "code",
   "execution_count": null,
   "metadata": {},
   "outputs": [],
   "source": [
    "rPath=r\"D:\\Proyekan\\UPG_ARR\\ID6293\"\n",
    "udr.deletefilesunder800(rPath)"
   ]
  },
  {
   "cell_type": "markdown",
   "metadata": {},
   "source": [
    "## Convert to CSV using MATLAB"
   ]
  },
  {
   "cell_type": "markdown",
   "metadata": {},
   "source": [
    "## Delete .mat files"
   ]
  },
  {
   "cell_type": "code",
   "execution_count": 23,
   "metadata": {},
   "outputs": [],
   "source": [
    "import os\n",
    "\n",
    "for parent, dirnames, filenames in os.walk(\"D:\\Proyekan\\Data yang udah di extract\"):\n",
    "    for fn in filenames:\n",
    "        if fn.lower().endswith('.mat'):\n",
    "            os.remove(os.path.join(parent, fn))"
   ]
  },
  {
   "cell_type": "code",
   "execution_count": 3,
   "metadata": {},
   "outputs": [],
   "source": [
    "dirpath=r\"D:\\Proyekan\\Data FDM\\Tail_653_1\"\n",
    "udr.deletemat(dirpath)"
   ]
  },
  {
   "cell_type": "markdown",
   "metadata": {},
   "source": [
    "# ZIP Files #"
   ]
  },
  {
   "cell_type": "code",
   "execution_count": 30,
   "metadata": {},
   "outputs": [],
   "source": [
    "import os\n",
    "import sys\n",
    "import zipfile\n",
    "\n",
    "source_dir = r\"D:\\Proyekan\\Data yang udah di extract\\Tail_670_4\"  # r'C:\\users\\xyz\\Source\\'\n",
    "dest_dir = r\"D:\\Proyekan\\Data yang udah di extract\\Tail_670_4\"  # r'C:\\users\\xyz\\Dest\\'\n",
    "\n",
    "def csv_files(source_dir):\n",
    "    for filename in os.listdir(source_dir):\n",
    "        if filename.endswith('.csv'):\n",
    "            yield filename\n",
    "            \n",
    "os.chdir(dest_dir)  # To work around zipfile limitations\n",
    "\n",
    "for csv_filename in csv_files(source_dir):\n",
    "    file_root = os.path.splitext(csv_filename)[0]\n",
    "    zip_file_name = file_root + '.zip'\n",
    "    zip_file_path = os.path.join(dest_dir, zip_file_name)\n",
    "    with zipfile.ZipFile(zip_file_path, 'w', zipfile.ZIP_DEFLATED) as zf:\n",
    "        zf.write(csv_filename)"
   ]
  },
  {
   "cell_type": "code",
   "execution_count": null,
   "metadata": {},
   "outputs": [],
   "source": [
    "source_dir =r\"D:\\Proyekan\\Data yang udah di extract\\Tail_670_5\"\n",
    "dest_dir = r\"D:\\Proyekan\\Data yang udah di extract\\Tail_670_5\"\n",
    "udr.csv_files(source_dir)\n",
    "udr.zipfiles(source_dir,dest_dir)"
   ]
  },
  {
   "cell_type": "markdown",
   "metadata": {},
   "source": [
    "## Delete .csv Files"
   ]
  },
  {
   "cell_type": "code",
   "execution_count": 29,
   "metadata": {},
   "outputs": [],
   "source": [
    "import os\n",
    "\n",
    "for parent, dirnames, filenames in os.walk(\"D:\\Proyekan\\Test Parquet\"):\n",
    "    for fn in filenames:\n",
    "        if fn.lower().endswith('.csv'):\n",
    "            os.remove(os.path.join(parent, fn))"
   ]
  },
  {
   "cell_type": "code",
   "execution_count": 3,
   "metadata": {},
   "outputs": [],
   "source": [
    "directorypath=r\"D:\\Proyekan\\Data yang udah di extract\\Tail_670_4\\flight_1070505\"\n",
    "udr.deletecsv(directorypath)"
   ]
  },
  {
   "cell_type": "markdown",
   "metadata": {},
   "source": [
    "# Convert to Parquet #"
   ]
  },
  {
   "cell_type": "code",
   "execution_count": null,
   "metadata": {},
   "outputs": [],
   "source": [
    "flist = ul.get_flist(r\"D:\\Proyekan\\Data yang udah di extract\\Tail_670_5\", \"zip\")\n",
    "target_folder = \"D:\\\\Proyekan\\\\Test Parquet\\\\Parquet\\\\\"\n",
    "for i, fpath in enumerate(flist):\n",
    "    #fname = fpath.split('\\\\')[-1]\n",
    "    df = pd.read_csv(fpath)\n",
    "    fname = fpath.split('\\\\')[-1].split('.')[0] + '.parquet'\n",
    "    print(f\"{i:03} ... Working on file ... {fname}\")\n",
    "    df.to_parquet(f\"{target_folder}{fname}\", compression=\"gzip\")"
   ]
  },
  {
   "cell_type": "code",
   "execution_count": null,
   "metadata": {},
   "outputs": [],
   "source": [
    "flist = ul.get_flist(r\"D:\\Proyekan\\Data yang udah di extract\\Tail_670_5\",\"zip\")\n",
    "target_folder = \"D:\\\\Proyekan\\\\Test Parquet\\\\Tail_670_5\\\\\"\n",
    "udr.converttoparquet(flist, target_folder)"
   ]
  },
  {
   "cell_type": "markdown",
   "metadata": {},
   "source": [
    "## Rename Files"
   ]
  },
  {
   "cell_type": "code",
   "execution_count": 7,
   "metadata": {},
   "outputs": [],
   "source": [
    "import os\n",
    "import pandas as pd\n",
    "#This is to rename files\n",
    "\n",
    "path = \"D:\\Proyekan\\Test Parquet\\Parquet\"\n",
    "count = 1\n",
    "\n",
    "ori_filename = []\n",
    "new_filename = []\n",
    "folder = []\n",
    "head, tail = os.path.split(path)\n",
    "for root, dirs, files in os.walk(path):\n",
    "    for file in files:\n",
    "        new_filecode = \"flight_\" + str(1000000 + count)\n",
    "        \n",
    "        ori_filename.append(os.path.basename(file))\n",
    "        new_filename.append(new_filecode)\n",
    "        folder.append(os.path.basename(root))\n",
    "        \n",
    "        fullpath = os.path.join(root,file)\n",
    "        os.rename(fullpath, os.path.join(root, new_filecode))\n",
    "        \n",
    "        count += 1\n",
    "\n",
    "#Store data to csv\n",
    "df = pd.DataFrame(list(zip(ori_filename, new_filename, folder)), columns = ['raw_file','file_id','tail_number'])\n",
    "df.to_csv(r'D:\\Proyekan\\FILES\\Metadata.csv',index = False, header = True)\n"
   ]
  },
  {
   "cell_type": "code",
   "execution_count": 3,
   "metadata": {},
   "outputs": [],
   "source": [
    "path = \"D:\\Proyekan\\COBA\"\n",
    "udr.renamefiles(path)"
   ]
  },
  {
   "cell_type": "code",
   "execution_count": null,
   "metadata": {},
   "outputs": [],
   "source": []
  }
 ],
 "metadata": {
  "kernelspec": {
   "display_name": "Python 3",
   "language": "python",
   "name": "python3"
  },
  "language_info": {
   "codemirror_mode": {
    "name": "ipython",
    "version": 3
   },
   "file_extension": ".py",
   "mimetype": "text/x-python",
   "name": "python",
   "nbconvert_exporter": "python",
   "pygments_lexer": "ipython3",
   "version": "3.7.4"
  }
 },
 "nbformat": 4,
 "nbformat_minor": 4
}
